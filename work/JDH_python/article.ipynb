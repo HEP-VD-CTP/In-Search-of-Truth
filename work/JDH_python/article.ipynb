{
 "cells": [
  {
   "attachments": {},
   "cell_type": "markdown",
   "metadata": {
    "tags": [
     "title"
    ]
   },
   "source": [
    "# In Search of Truth: History of Education and the Use of GenAI, A Way To Train Reflective Teachers?"
   ]
  },
  {
   "attachments": {},
   "cell_type": "markdown",
   "metadata": {},
   "source": [
    "**Mots clés:** histoire de l’éducation ; réflexivité ; formations aux enseignements ; compétences transver-sales."
   ]
  },
  {
   "cell_type": "markdown",
   "metadata": {
    "tags": [
     "contributor"
    ]
   },
   "source": [
    "### Sabina Calastri [![orcid](https://orcid.org/sites/default/files/images/orcid_16x16.png)](https://orcid.org/ORCID_ID_IF_EXIST) \n",
    "\n",
    "sabina-giorgia.calastri@hepl.ch<br/>\n",
    "Haute Ecole Pédagogique Vaud"
   ]
  },
  {
   "cell_type": "markdown",
   "metadata": {
    "tags": [
     "contributor"
    ]
   },
   "source": [
    "### Giorgia Masoni [![orcid](https://orcid.org/sites/default/files/images/orcid_16x16.png)](https://orcid.org/ORCID_ID_IF_EXIST) \n",
    "\n",
    "giorgia.masoni@hepl.ch<br/>\n",
    "Haute Ecole Pédagogique Vaud"
   ]
  },
  {
   "cell_type": "markdown",
   "metadata": {
    "tags": [
     "contributor"
    ]
   },
   "source": [
    "### Giorgia Masoni [![orcid](https://orcid.org/sites/default/files/images/orcid_16x16.png)](https://orcid.org/ORCID_ID_IF_EXIST) \n",
    "\n",
    "giorgia.masoni@hepl.ch<br/>\n",
    "Haute Ecole Pédagogique Vaud"
   ]
  },
  {
   "cell_type": "markdown",
   "metadata": {
    "tags": [
     "contributor"
    ]
   },
   "source": [
    "### Nicolas Perrin [![orcid](https://orcid.org/sites/default/files/images/orcid_16x16.png)](https://orcid.org/ORCID_ID_IF_EXIST) \n",
    "\n",
    "nicolas.perrin@hepl.ch<br/>\n",
    "Haute Ecole Pédagogique Vaud"
   ]
  },
  {
   "cell_type": "markdown",
   "metadata": {
    "tags": [
     "contributor"
    ]
   },
   "source": [
    "### David Piot [![orcid](https://orcid.org/sites/default/files/images/orcid_16x16.png)](https://orcid.org/ORCID_ID_IF_EXIST) \n",
    "\n",
    "david.piot@hepl.ch<br/>\n",
    "Haute Ecole Pédagogique Vaud"
   ]
  },
  {
   "cell_type": "markdown",
   "metadata": {
    "tags": [
     "contributor"
    ]
   },
   "source": [
    "### Sylviane Tinembart [![orcid](https://orcid.org/sites/default/files/images/orcid_16x16.png)](https://orcid.org/ORCID_ID_IF_EXIST) \n",
    "\n",
    "sylviane.tinembart@hepl.ch<br/>\n",
    "Haute Ecole Pédagogique Vaud"
   ]
  },
  {
   "attachments": {},
   "cell_type": "markdown",
   "metadata": {
    "tags": [
     "contributor"
    ]
   },
   "source": [
    "### Laura Vita [![orcid](https://orcid.org/sites/default/files/images/orcid_16x16.png)](https://orcid.org/ORCID_ID_IF_EXIST) \n",
    "\n",
    "laura.vita@hepl.ch<br/>\n",
    "Haute Ecole Pédagogique Vaud"
   ]
  },
  {
   "cell_type": "markdown",
   "metadata": {
    "tags": [
     "contributor"
    ]
   },
   "source": [
    "### Emmanuelle Vollenweider [![orcid](https://orcid.org/sites/default/files/images/orcid_16x16.png)](https://orcid.org/ORCID_ID_IF_EXIST) \n",
    "\n",
    "emmanuelle.vollenweider@hepl.ch<br/>\n",
    "Haute Ecole Pédagogique Vaud"
   ]
  },
  {
   "cell_type": "markdown",
   "metadata": {
    "tags": [
     "contributor"
    ]
   },
   "source": [
    "### Marcel Grosjean [![orcid](https://orcid.org/sites/default/files/images/orcid_16x16.png)](https://orcid.org/ORCID_ID_IF_EXIST) \n",
    "\n",
    "marcel.grosjean@hepl.ch<br/>\n",
    "Haute Ecole Pédagogique Vaud"
   ]
  },
  {
   "cell_type": "markdown",
   "metadata": {
    "tags": [
     "copyright"
    ]
   },
   "source": [
    "[![cc-by-nc-nd](https://licensebuttons.net/l/by-nc-nd/4.0/88x31.png)](https://creativecommons.org/licenses/by-nc-nd/4.0/) \n",
    "©HEP-VD. Published by De Gruyter in cooperation with the University of Luxembourg Centre for Contemporary and Digital History. This is an Open Access article distributed under the terms of the [Creative Commons Attribution License CC-BY-NC-ND](https://creativecommons.org/licenses/by-nc-nd/4.0/)\n"
   ]
  },
  {
   "cell_type": "markdown",
   "metadata": {},
   "source": [
    "## Introduction"
   ]
  },
  {
   "attachments": {},
   "cell_type": "markdown",
   "metadata": {},
   "source": [
    "Les modèles d’intelligence artificielle générative (IAg) confrontent les chercheurs en sciences humaines et les appellent à repenser leurs méthodes, leurs objets et leur posture critique (Clavert & Muller, 2024). Les historiens sont invités à s’interroger sur les usages et les implications de ces technologies dans la production des savoirs sur le passé (Meadows & Sternfeld, 2023)."
   ]
  },
  {
   "cell_type": "markdown",
   "metadata": {},
   "source": [
    "La généralisation de l’utilisation des outils de l’IAg par les élèves et étudiants dans le cadre de leurs parcours de formation introduit cette tension également dans le champ des formations à l’enseignement. Ces enjeux invitent les intervenants dans les formations académiques à se questionner sur comment favoriser le développement d’une posture critique de leurs étudiants (Clavert & Muller, 2024) et, dans notre cas, des futurs enseignants à l’égard de l’IAg."
   ]
  },
  {
   "cell_type": "markdown",
   "metadata": {},
   "source": [
    "Dans ce contexte, l’histoire de l’éducation, en tant que discipline critique et réflexive, apparaît comme un levier pour comprendre, contextualiser et interroger l’utilisation de l’IAg dans l’espace scolaire et universitaire. Inscrite dans une tradition à la fois sociohistorique, pédagogique et praxéologique (Wagnon, 2018), l’histoire de l’éducation permet de faire émerger une culture professionnelle critique, propice à l’analyse des continuités, des ruptures et des effets de sédimentation dans les pratiques d’enseignement (Ronveaux & Schneuwly, 2018). Ainsi, elle permet d’historiciser la réflexion pédagogique (Novoa, 1997). L’histoire de l’éducation constitue ainsi un outil privilégié pour aider les futurs enseignants à développer une posture éthique, réflexive et contextualisée (Bandini, 2019)."
   ]
  },
  {
   "cell_type": "markdown",
   "metadata": {},
   "source": [
    "Face à cette situation, nous envisageons de concevoir et tester un dispositif de formation qui articule la démarche historienne (analyse des sources, contextualisation, lecture critique et interprétation) et l’usage des IAg. Cette démarche doit permettre de favoriser un doute constructif (Petit, 2022). Elle permettra d’interroger les reconstructions du passé proposées par l’IAg, ainsi que leurs processus de production, et les biais qu’il induit (Meadows & Sternfeld, 2023)."
   ]
  },
  {
   "cell_type": "markdown",
   "metadata": {},
   "source": [
    "## Problématique\n"
   ]
  },
  {
   "cell_type": "markdown",
   "metadata": {},
   "source": [
    "Dans ce cadre, notre démarche de recherche s’appuie sur les tensions entre le fonctionnement des modèles d’IAg et les principes de la critique historique. Les modèles d’IAg produisent des textes en s’appuyant sur des bases documentaires massives. Cependant, ils opèrent sans explicitation claire de leurs sources, sans contextualisation, et selon une logique probabiliste qui ne répond pas à des impératifs de vérité. Leur fonctionnement consiste donc en des estimations basées sur des données reconfigurées et ainsi « brouillées » (Sternfeld, 2023 ; Petit, 2022 ; Kansteiner, 2022). "
   ]
  },
  {
   "cell_type": "markdown",
   "metadata": {},
   "source": [
    "Dans le champ de l’histoire, cette dynamique entre en tension directe avec les principes de la critique historique : récolte et évaluation des sources, mise en réseau des documents, contextualisation des énoncés, repérage des biais. L’IAg génère des récits du passé sans historiographie, sans cadre critique, sans mise en débat – autant d’éléments qui constituent précisément l’épistémologie de l’histoire (Prost, 2010)."
   ]
  },
  {
   "cell_type": "markdown",
   "metadata": {},
   "source": [
    "Plusieurs chercheurs ont souligné l’importance de ne pas aborder l’IAg comme une rupture radicale, mais de l’inscrire dans une généalogie longue d’innovations techniques dans le champ éducatif (Petit, 2022). Dans cette perspective, l’histoire de l’éducation peut jouer un double rôle : d’une part, elle éclaire les dynamiques historiques de production et de circulation des savoirs pédagogiques ; d’autre part, elle contribue à l’élaboration d’une posture critique de l’IAg et ses usages dans le cadre de la formation. L’histoire des technologies éducatives (Petit, 2022) est donc potentiellement un objet de formation pertinent pour dénaturaliser la prétendue irruption de l’IAg dans les pratiques enseignantes et interroger une posture éthique, réflexive et contextualisée."
   ]
  },
  {
   "cell_type": "markdown",
   "metadata": {},
   "source": [
    "Résumer et articuler la nature du geste historique « source-lecture-écriture » (Clavert & Muller, 2024), « analyse des sources, contextualisation, lecture critique et interprétation » (Petit, 2022) et récolte et évaluation des sources, mise en réseau des documents, contextualisation des énoncés, repérage des biais (Prost, 2010). Synthétiser peut-être en termes de construction de la vérité. Faire l’hypothèse que ce sont ces mêmes gestes qui sont au cœur de notre projet."
   ]
  },
  {
   "cell_type": "markdown",
   "metadata": {},
   "source": [
    "## Cadre théorique"
   ]
  },
  {
   "cell_type": "markdown",
   "metadata": {},
   "source": [
    "Pour concevoir le dispositif de formation et analyser les pratiques induites par celui-ci, nous nous référons à la philosophie de la technique [+ historique]. Nous nous focalisons sur la relation entre le fonctionnement des IAg et ses conséquences sur la démarche historique et les processus de formation. "
   ]
  },
  {
   "cell_type": "markdown",
   "metadata": {},
   "source": [
    "Plus précisément, nous faisons l’hypothèses que l’enseignement de l’histoire de l’éducation est le lieu pour interroger l’utilisation des IAg en regard de leur fonctionnement, le savoir en construction dans un processus de formation et des pratiques d’enseignement. Dit autrement, nous pensons que la réflexion sur les « gestes de l’historien » joue un rôle clé en histoire, mais qu’elle permet aussi d’interroger l’usage des IAg et l’agir professionnel. "
   ]
  },
  {
   "cell_type": "markdown",
   "metadata": {},
   "source": [
    "Ceci est important face au risque de déléguation (Perrin et al, 2025).  La technique est constitutive et constituante de l’humain. La technique est un pharmakon : elle ni bonne ni mauvaise en soi. L’enjeu consiste à identifier les problèmes potentiellement induits par l’usage des IAg dans la démarche historique, les pratiques de formation et l’agir professionnel. "
   ]
  },
  {
   "cell_type": "markdown",
   "metadata": {},
   "source": [
    "Cette démarche favorisera plus largement **l’interrogation des catégories induites** par la technique, que celle-ci soit artéfactuelle ou symbolique (Perrin et Piot, 2024). De cette manière, les étudiants seront amenés à développer une posture critique portant non seulement sur l’usage des IAg, mais aussi sur l’évidence de leurs **gestes professionnels** (+ réf) en regard de la sédimentation dans les pratiques d’enseignement (Ronveaux & Schneuwly, 2018). "
   ]
  },
  {
   "cell_type": "markdown",
   "metadata": {},
   "source": [
    "Pour interroger les catégories induites par la technique, il faut d’une part comprendre à minima comment fonctionne la technique et d’autre part les gestes requis en termes de démarche historique, pédagogique et professionnelle. Les étudiants interrogeront comment leurs gestes et pratiques professionnels peuvent être recontextualisés à l’aide d’une démarche historique mise en regard du fonctionnement des IAg lorsqu’elles s’appuient sur un modèle RAG (retrieval augmented generation) pour prendre en compte des sources historiques spécifiques."
   ]
  },
  {
   "cell_type": "markdown",
   "metadata": {},
   "source": [
    "## Méthode"
   ]
  },
  {
   "cell_type": "markdown",
   "metadata": {},
   "source": [
    "### Une démarche de conception"
   ]
  },
  {
   "cell_type": "markdown",
   "metadata": {},
   "source": [
    "Nous allons tester cette hypothèse dans le cadre d’une Design Based Research (Barab & Squire, 2004). Cette méthode nous permettra d’expliciter et mettre à l’épreuve nos hypo-thèses de conception, ainsi que de concevoir et améliorer notre dispositif de formation dans une démarche itérative (Perrin et al., 2025). Cette recherche sera menée lors du semestre d’automne 2025 à la Haute école pédagogique du canton de Vaud (Suisse). Elle sera portée par une équipe interdisciplinaire active dans les domaines de l’histoire de l’éducation, de l’ingénierie pédagogique ainsi que des sciences de la technologie.  "
   ]
  },
  {
   "cell_type": "markdown",
   "metadata": {},
   "source": [
    "### Des hypothèses de conception"
   ]
  },
  {
   "cell_type": "markdown",
   "metadata": {},
   "source": [
    "Préciser le rôle des hypothèses de conception\n",
    "\n",
    "Rappeler les hypothèses de conception déjà étudiées (pas seulement chez Perrin et al... ;-))\n",
    "\n",
    "Rappeler la forme d’une hypothèse de conception (Knibbe, 2016)\n",
    "- Étant donné hypothèse sur phénomène, en agissant sur telles caractéristiques, on anticipe d’observer tel effet attendu\n",
    "\n",
    "\n",
    "Reprendre le cadre théorique et l’opérationnaliser\n",
    "- Étant donné que la construction de similitudes | différences par des démarches comparatives permet de faire face aux paradoxes de devoir interroger la pertinence des textes générés tout en étant apprenant, le dispositif visant la comparaison entre le résultat obtenu à l’aide de l’IA, la démarche historique et le fonctionnement des IA, permettra aux étudiants de développer une pensée critique en repérant des résul-tats différents et de faire des hypothèses sur l’origine de ces différences.\n",
    "- Étant donné que l’histoire de l’éducation, en mettant en œuvre les principes de la critique historique, permet [comment] de faire émerger une culture professionnelle critique,\n",
    "- Étant donné que la controverse (c’est-à-dire la formulation de la pensée tenue par des contraintes argumentatives de la localité) favorise la capacité à interroger les ca-tégories induites par la technique (que ce soit celle des IA ou celle qui formalise l’agir professionnel), k les controverses sur la nature des propositions sur les pédagogies actives faites par les IA mise en regard du contexte et en articulant le fonctionnement des IAg et des gestes historiques, pédagogiques et professionnels, l permettra aux étudiants de développer une pensée critique qui interroge ce qui permet de juger de la validité des préconisations sur les gestes professionnels issus dans les textes géné-rés, dans les doxas et dans les textes prescriptifs\n",
    "- Étant donné la difficulté à  [expliciter l’apprentissage et la manière de l’apprendre], l’instrumentation  [ ???] permet d’éviter la déléguation par l’étudiant, \n",
    "    - Tout texte généré n’est que le plus probable compte-tenu des caractéris-tiques du LLM (entrainement, affinement, pré-prompt...). La nécessité de pouvoir interroger les catégories induites par la technique implique de pou-voir maîtriser comment se construit la vérité. Il est utile de distinguer une approche cohérentiste (un énoncé est vrai s’il s’intègre de manière cohérente dans d’autres énoncés) et une approche correspondantiste (un énoncé est vrai s’il correspond à une extériorité). Ceci permet d’initier une enquête sur la co-hérence du texte généré (et donc le fonctionnement du LLM) et la correspon-dance du texte (ce qui peut être considéré comme une réalité qui est ici une épistémologie, à savoir processus de construction de la vérité qui inclut des faits, des concepts, des méthodes...)\n",
    "-\tTransindividuation (co-transformation...) permet le savoir ➝ agir sur ... Nooteboo-kLM ➝  \n",
    "    - savoir si extériorisé -> intériorisé (singularisé) -> réextériorisé différemment\n",
    "    - repérer les court-circuits ?\n"
   ]
  },
  {
   "cell_type": "markdown",
   "metadata": {},
   "source": [
    "Si les étudiant·e·s élaborent des biographies de Roorda avec des IAg, puis confrontent ces textes avec des travaux scientifiques et la démarche historienne (sous la guidance d’un spé-cialiste et par le biais d’interactions collectives), alors ils développeront la capacité à ques-tionner et nuancer la validité des reconstructions historiques générés par les IAg, ce qui de-vrait les amener à reconnaître les limites de l’usage des IAg pour des reconstructions histo-riques (mais pas seulement) et à adopter une posture plus critique et réflexive vis-à-vis de ces outils. "
   ]
  },
  {
   "attachments": {},
   "cell_type": "markdown",
   "metadata": {},
   "source": [
    "Plusieurs résultats sont attendus. Après la séquence d’enseignement, les étudiant·e·s se-ront capables d’identifier les limites, erreurs ou simplifications présentes dans les textes générés par les IAg ; les étudiant·e·s mobiliseront des sources scientifiques et des éléments de méthode historienne pour appuyer leurs critiques (comparaison et analyse de sources primaires, contextualisation de ces sources à l’aide de la littérature secondaire existante sur le sujet). A plus long terme les résultats suivantes pourraient également être attendus  : les étudiant·e·s développeront une posture critique et réflexive plus large vis-à-vis des produc-tions issues de l’IAg, ce qui leur permettra également de questionner les concepts de vérité et d’interprétation (en le mettant en perspective avec le concept de probabilité) ; les étu-diant·e·s reconnaîtront les spécificités et la valeur de la démarche historienne par rapport aux reconstructions automatiques ; les étudiant·e·s changeront leurs habitudes concernant l’usage de l’IAg."
   ]
  },
  {
   "cell_type": "markdown",
   "metadata": {},
   "source": [
    "### Un dispositif de formation"
   ]
  },
  {
   "cell_type": "markdown",
   "metadata": {},
   "source": [
    "La mise en place de cette séquence sera effectuée dans le cadre d’un séminaire d’approfondissement proposée en formation initiale (Bachelor primaire) destinée aux fu-tur·e·s enseignant·e·s de l’école primaire vaudoise. Ce séminaire d’approfondissement vise à porter un regard critique et approfondi sur les pédagogies actives, leur histoire et leur dé-ploiement dans les classes aujourd’hui. S’intéresser à ces pédagogies aujourd’hui se justifie par leur rôle dans la construction d’environnements scolaires inclusifs et favorables aux ap-prentissages, ainsi que par leur influence persistante (processus de sédimentation des pra-tiques) sur les pratiques enseignantes contemporaines (Grootaers, et Tilman, 2022 ; Vellas, 2023 ; Wagnon, 2019, 2021). Ce séminaire poursuit plusieurs objectifs, à savoir : approfondir la connaissance des dispositifs de pédagogie active et leurs origines en adoptant une dé-marche historique ; découvrir et manipuler du matériel pédagogique ancien et actuel ; conce-voir un projet incluant une modalité de pédagogie active ; se projeter dans sa future classe en envisageant une séquence d’enseignement comprenant de la pédagogie active. "
   ]
  },
  {
   "cell_type": "markdown",
   "metadata": {},
   "source": [
    "Ce cadre d’enseignement nous est apparu comme un terrain particulièrement pertinent pour introduire une réflexion sur les usages IAg en formation, et plus spécifiquement sur les rela-tions entre histoire et IAg. Le séminaire offre en effet un espace propice pour interroger, dans une démarche collective et participative d’analyse des pratiques, la manière dont ces outils redéfinissent le rapport au savoir et posent la question du concept de vérité face aux textes qu’ils produisent."
   ]
  },
  {
   "cell_type": "markdown",
   "metadata": {},
   "source": [
    "Le public de cette recherche est constitué d’un groupe d’environ dix étudiant·e·s, engagé·e·s dans ce séminaire de formation. + éléments en lien avec leur profil à préciser une fois toutes les données récoltés (à l’aide d’un formulaire)."
   ]
  },
  {
   "cell_type": "markdown",
   "metadata": {},
   "source": [
    "Séquence d’enseignement 03.10.2025:"
   ]
  },
  {
   "attachments": {},
   "cell_type": "markdown",
   "metadata": {},
   "source": [
    "Activités|Objectifs|Démarche|Commentaires\n",
    "---|---|---|---\n",
    "1|Rédaction d’une biographie de Roorda avec l’IAg.|Élaboration d’une biographie à l’aide de l’IA|Collecte des pro-ductions pour les analyser\n",
    "2|Discussion collective guidée par un historien spécialiste.<br/><br/>Comparaison en collectif des biographies scientifiques<br/> générées par l’IAg et celle reconstruite avec la méthode historienne|Mobilisation de sources<br/><br/>Argumentation étayée<br/><br/>Interaction sociale et co-construction<br/><br/>Analyse comparative<br/><br/>Questionnement critique<br/><br/>Détection d’erreurs/inexactitudes\n",
    "3|Approfondissement de la pensée pédagogique de Roorda<br/> par la lecture et analyse de textes de Roorda)|Mobilisation de sources<br/><br/>Argumentation étayée<br/><br/>Interaction sociale et co-construction<br/><br/>Analyse comparative<br/><br/>Questionnement critique\n",
    "4|Objectivation sur les usages des IAg|Réflexivité<br/><br/>Transfert des apprentissages<br/><br/>Prise de recul critique\n",
    "\n"
   ]
  },
  {
   "cell_type": "markdown",
   "metadata": {},
   "source": [
    "Opérationnalisation:"
   ]
  },
  {
   "cell_type": "markdown",
   "metadata": {},
   "source": [
    "<table>\n",
    "  <tr>\n",
    "    <th>Concept</th>\n",
    "    <th>Indicateur</th>\n",
    "    <th>Outil de récolte des données</th>\n",
    "  </tr>\n",
    "  <tr>\n",
    "    <td>Pensée critique</td>\n",
    "    <td>\n",
    "      Nombre et pertinence des critiques relevées par les étudiant·e·s<br/><br/>\n",
    "      Capacité des étudiant·e·s à repérer des erreurs factuelles <br/>ou des simplifications dans le texte généré par les IAg\n",
    "    </td>\n",
    "    <td rowspan=\"2\">\n",
    "      Enregistrement audio/vidéo<br/><br/>\n",
    "      Traces écrites des étudiant·e·s<br/><br/>\n",
    "      Questionnaire post-séquence soumis aux étudiant·e·s<br/><br/>\n",
    "      Éventuellement : entretiens ?<br/><br/>\n",
    "      Éventuellement : Journal de bord des formateurs·trices impliqué·e·s dans la séquence ?\n",
    "    </td>\n",
    "  </tr>\n",
    "  <tr>\n",
    "    <td>Réflexivité</td>\n",
    "    <td>\n",
    "      Évolution du discours des étudiant·e·s par rapport aux usages<br/> des IAg avant/après l’activité<br/><br/>\n",
    "      Capacité à énoncer les limites et conditions d’usage de l’IAg<br/><br/>\n",
    "      Usage de références scientifiques<br/><br/>\n",
    "      Argumentation appuyée sur méthode historienne\n",
    "    </td>\n",
    "  </tr>\n",
    "</table>"
   ]
  },
  {
   "cell_type": "markdown",
   "metadata": {},
   "source": [
    "# Résultats"
   ]
  },
  {
   "cell_type": "markdown",
   "metadata": {},
   "source": [
    "Nous montrons ainsi comment l’histoire de l’éducation n’est pas seulement un contenu dis-ciplinaire à transmettre, mais un levier pour former des enseignants réflexifs et capables d’interroger les discours, de les situer et de construire une posture professionnelle ancrée dans l’histoire, la critique et l’éthique (Bandini, 2019)."
   ]
  },
  {
   "cell_type": "markdown",
   "metadata": {},
   "source": [
    "# Bibliographie"
   ]
  },
  {
   "cell_type": "markdown",
   "metadata": {},
   "source": [
    "- Clavert, F., & Muller, C. (2024). *L’histoire au temps des algorithmes : Une réflexion prospective sur l’introduction de l’intelligence artificielle en histoire au 21e siècle*. 20 & 21. Revue d’histoire, 162(2), 13–26. https://doi.org/10.3917/vin.162.0013  \n",
    "\n",
    "- Bandini, G. (2019). *Manifesto della Public History of Education. Una proposta per connettere ricercar accademica, didattica e memoria sociale*. In G. Bandini & S. Oliviero (Eds.), *Public History of Education: riflessioni, testimonianze, esperienze* (pp. 41–53). Firenze University Press.  \n",
    "\n",
    "- Barab, S., & Squire, K. (2004). Design-based research: Putting a stake in the ground. *The Journal of the Learning Sciences, 13*(1), 1–14.  \n",
    "\n",
    "- Kansteiner, W. (2022). Digital Doping for Historians: Can History, Memory, and Historical Theory Be Rendered Artificially Intelligent? *History and Theory, 61*(4), 119–133. https://doi.org/10.1111/hith.12282  \n",
    "\n",
    "- Meadows, R. D., & Sternfeld, J. (2023). Artificial Intelligence and the Practice of History: A Forum. *The American Historical Review, 128*(3), 1345–1349. https://doi.org/10.1093/ahr/rhad362  \n",
    "\n",
    "- Novoa, A. (1997). La nouvelle histoire américaine de l’éducation. *Histoire de l’éducation, 73*, 3–48.  \n",
    "\n",
    "- Perrin, N., & Piot, D. (2024). Relational Engineering: Necessary and Sufficient Relations and the Case of Generative AI. *Constructivist Foundations, 20*(1), 50–52.  \n",
    "\n",
    "- Perrin, N., Piot, D., Vita, L., Bationo Tillon, A., & Guibourdenche, J. (2025). Des hypothèses pour concevoir des tâches permettant aux étudiants d’évaluer la pertinence des textes générés par les IA. *RITPU – Revue internationale des technologies en pédagogie universitaire, 22*(1).  \n",
    "\n",
    "- Petit, L. (2022). La rencontre de l’Intelligence artificielle (IA) et de l’esprit critique (EC): nouveaux enjeux? nouvelle formation? *Communication, technologies et développement, (12)*.  \n",
    "\n",
    "- Prost, A. (2010). *Douze leçons sur l’histoire*. Points.  \n",
    "\n",
    "- Ronveaux, C., & Schneuwly, B. (2018). (Éds.). *Lire des textes réputés littéraires : disciplination et sédimentation. Enquête au fil des degrés scolaires en Suisse romande*. Peter Lang.  \n",
    "\n",
    "- Sternfeld, J. (2023). AI-as-Historian. *The American Historical Review, 128*(3), 1372–1377.  \n",
    "\n",
    "- Wagnon, S. (2018). L’histoire de l’éducation au sein des sciences de l’éducation : un champ de recherche passerelle? *Éducation et socialisation, 50*, 1–10.  \n"
   ]
  }
 ],
 "metadata": {
  "celltoolbar": "Tags",
  "citation-manager": {
   "items": {}
  },
  "kernelspec": {
   "display_name": "Python 3 (ipykernel)",
   "language": "python",
   "name": "python3"
  },
  "language_info": {
   "codemirror_mode": {
    "name": "ipython",
    "version": 3
   },
   "file_extension": ".py",
   "mimetype": "text/x-python",
   "name": "python",
   "nbconvert_exporter": "python",
   "pygments_lexer": "ipython3",
   "version": "3.11.9"
  },
  "toc": {
   "base_numbering": 1,
   "nav_menu": {},
   "number_sections": true,
   "sideBar": true,
   "skip_h1_title": false,
   "title_cell": "Table of Contents",
   "title_sidebar": "Contents",
   "toc_cell": false,
   "toc_position": {},
   "toc_section_display": true,
   "toc_window_display": false
  }
 },
 "nbformat": 4,
 "nbformat_minor": 4
}
