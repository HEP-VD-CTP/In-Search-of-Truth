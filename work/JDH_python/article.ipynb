{
 "cells": [
  {
   "attachments": {},
   "cell_type": "markdown",
   "metadata": {
    "tags": [
     "title"
    ]
   },
   "source": [
    "# In Search of Truth: History of Education and the Use of GenAI, A Way To Train Reflective Teachers?"
   ]
  },
  {
   "attachments": {},
   "cell_type": "markdown",
   "metadata": {},
   "source": [
    "**Mots clés:** histoire de l’éducation ; réflexivité ; formations aux enseignements ; compétences transversales."
   ]
  },
  {
   "cell_type": "markdown",
   "metadata": {
    "tags": [
     "contributor"
    ]
   },
   "source": [
    "### Sabina Calastri [![orcid](https://orcid.org/sites/default/files/images/orcid_16x16.png)](https://orcid.org/ORCID_ID_IF_EXIST) \n",
    "\n",
    "sabina-giorgia.calastri@hepl.ch<br/>\n",
    "Haute Ecole Pédagogique Vaud"
   ]
  },
  {
   "cell_type": "markdown",
   "metadata": {
    "tags": [
     "contributor"
    ]
   },
   "source": [
    "### Gaëlle Martin [![orcid](https://orcid.org/sites/default/files/images/orcid_16x16.png)](https://orcid.org/ORCID_ID_IF_EXIST) \n",
    "\n",
    "gaelle.martin@hepl.ch<br/>\n",
    "Haute Ecole Pédagogique Vaud"
   ]
  },
  {
   "cell_type": "markdown",
   "metadata": {
    "tags": [
     "contributor"
    ]
   },
   "source": [
    "### Giorgia Masoni [![orcid](https://orcid.org/sites/default/files/images/orcid_16x16.png)](https://orcid.org/ORCID_ID_IF_EXIST) \n",
    "\n",
    "giorgia.masoni@hepl.ch<br/>\n",
    "Haute Ecole Pédagogique Vaud"
   ]
  },
  {
   "cell_type": "markdown",
   "metadata": {
    "tags": [
     "contributor"
    ]
   },
   "source": [
    "### Nicolas Perrin [![orcid](https://orcid.org/sites/default/files/images/orcid_16x16.png)](https://orcid.org/ORCID_ID_IF_EXIST) \n",
    "\n",
    "nicolas.perrin@hepl.ch<br/>\n",
    "Haute Ecole Pédagogique Vaud"
   ]
  },
  {
   "cell_type": "markdown",
   "metadata": {
    "tags": [
     "contributor"
    ]
   },
   "source": [
    "### David Piot [![orcid](https://orcid.org/sites/default/files/images/orcid_16x16.png)](https://orcid.org/ORCID_ID_IF_EXIST) \n",
    "\n",
    "david.piot@hepl.ch<br/>\n",
    "Haute Ecole Pédagogique Vaud"
   ]
  },
  {
   "cell_type": "markdown",
   "metadata": {
    "tags": [
     "contributor"
    ]
   },
   "source": [
    "### Sylviane Tinembart [![orcid](https://orcid.org/sites/default/files/images/orcid_16x16.png)](https://orcid.org/ORCID_ID_IF_EXIST) \n",
    "\n",
    "sylviane.tinembart@hepl.ch<br/>\n",
    "Haute Ecole Pédagogique Vaud"
   ]
  },
  {
   "cell_type": "markdown",
   "metadata": {},
   "source": [
    "### Maxime Villet [![orcid](https://orcid.org/sites/default/files/images/orcid_16x16.png)](https://orcid.org/ORCID_ID_IF_EXIST) \n",
    "\n",
    "p20451@etu.hepl.ch<br/>\n",
    "Haute Ecole Pédagogique Vaud"
   ]
  },
  {
   "attachments": {},
   "cell_type": "markdown",
   "metadata": {
    "tags": [
     "contributor"
    ]
   },
   "source": [
    "### Laura Vita [![orcid](https://orcid.org/sites/default/files/images/orcid_16x16.png)](https://orcid.org/ORCID_ID_IF_EXIST) \n",
    "\n",
    "laura.vita@hepl.ch<br/>\n",
    "Haute Ecole Pédagogique Vaud"
   ]
  },
  {
   "cell_type": "markdown",
   "metadata": {
    "tags": [
     "contributor"
    ]
   },
   "source": [
    "### Emmanuelle Vollenweider [![orcid](https://orcid.org/sites/default/files/images/orcid_16x16.png)](https://orcid.org/ORCID_ID_IF_EXIST) \n",
    "\n",
    "emmanuelle.vollenweider@hepl.ch<br/>\n",
    "Haute Ecole Pédagogique Vaud"
   ]
  },
  {
   "cell_type": "markdown",
   "metadata": {
    "tags": [
     "contributor"
    ]
   },
   "source": [
    "### Marcel Grosjean [![orcid](https://orcid.org/sites/default/files/images/orcid_16x16.png)](https://orcid.org/ORCID_ID_IF_EXIST) \n",
    "\n",
    "marcel.grosjean@hepl.ch<br/>\n",
    "Haute Ecole Pédagogique Vaud"
   ]
  },
  {
   "cell_type": "markdown",
   "metadata": {
    "tags": [
     "copyright"
    ]
   },
   "source": [
    "[![cc-by-nc-nd](https://licensebuttons.net/l/by-nc-nd/4.0/88x31.png)](https://creativecommons.org/licenses/by-nc-nd/4.0/) \n",
    "©HEP-VD. Published by De Gruyter in cooperation with the University of Luxembourg Centre for Contemporary and Digital History. This is an Open Access article distributed under the terms of the [Creative Commons Attribution License CC-BY-NC-ND](https://creativecommons.org/licenses/by-nc-nd/4.0/)\n"
   ]
  },
  {
   "cell_type": "markdown",
   "metadata": {},
   "source": [
    "# Commentaire général pour cette deuxième « boucle » de notre cheminement. "
   ]
  },
  {
   "cell_type": "markdown",
   "metadata": {},
   "source": [
    "Cette nouvelle version de notre texte s’inscrit dans celle que nous appelons « la deuxième boucle » de notre travail de recherche et de rédaction. Par rapport à la première version (à la « première boucle »), nous avons avancé sur la rédaction de plusieurs sections de l’article, mis en place une séquence pédagogique supplémentaire et commencé à élaborer le questionnaire destiné à notre public cible, dans le but de compléter les données déjà recueillies. Nous avons également tenu, le 28 octobre 2025, une réunion d’équipe afin de discuter de l’ensemble de ces éléments. Les points principaux ressortis de cette discussion sont les suivants :"
   ]
  },
  {
   "cell_type": "markdown",
   "metadata": {},
   "source": [
    "- la nécessité de mieux mettre en évidence le travail parallèle mené sur les différents vo-lets du projet ;\n",
    "- l’importance de rendre plus explicites l’opérationnalisation et les hypothèses de con-ception ;\n",
    "- la volonté de faire davantage apparaître les tensions qui traversent les binômes cher-cheur·e / formateur·trice et activité des étudiant·e·s / activité des chercheur·e·s ;\n",
    "- le souhait d’utiliser GitHub afin de rendre plus claires et accessibles les différentes étapes de notre recherche.\n"
   ]
  },
  {
   "cell_type": "markdown",
   "metadata": {},
   "source": [
    "Concernant le questionnaire, nous avons convenu de le modifier pour qu’il invite davantage les étudiant·e·s à adopter une posture réflexive et analytique vis-à-vis de leurs pratiques. Il s’agira d’expliciter les raisons pour lesquelles ce formulaire leur est proposé, d’en clarifier les enjeux, puis de le faire compléter dans une perspective introspective, en tant que véritable tâche de réflexion plutôt que comme un simple instrument de collecte de données."
   ]
  },
  {
   "cell_type": "markdown",
   "metadata": {},
   "source": [
    "Dans le cadre de la rédaction de l’article, nous souhaitons également mieux faire ressortir la complexité du contexte de notre recherche. Le programme et les objectifs du séminaire ne re-lèvent pas uniquement d’une formation à l’usage des IAg, mais visent avant tout à sensibiliser aux pédagogies actives, en particulier à la planification active de l’apprentissage. À ce titre, les étudiant·e·s participeront aussi à un colloque en lien avec la figure de Roorda, que nous souhai-tons davantage mettre en avant dans notre article. Cette figure, marquée par des tensions et des controverses, offre en effet un terrain fécond pour articuler notre réflexion avec la didac-tique de l’histoire, notamment autour de la notion d’histoire-problème et de controverse."
   ]
  },
  {
   "cell_type": "markdown",
   "metadata": {},
   "source": [
    "Nous allons donc reprendre notre texte et notre analyse en intégrant ces éléments nouveaux, afin d’enrichir la cohérence, la profondeur et la clarté de notre démarche de recherche."
   ]
  },
  {
   "cell_type": "markdown",
   "metadata": {},
   "source": [
    "## Introduction"
   ]
  },
  {
   "cell_type": "markdown",
   "metadata": {},
   "source": [
    "Les modèles d’intelligence artificielle générative (IAg) confrontent les chercheurs en sciences humaines et les appellent à repenser leurs méthodes, leurs objets et leur posture critique (Clavert & Muller, 2024). Les historiens sont invités à s’interroger sur les usages et les implications de ces technologies dans la production des savoirs sur le passé (Meadows & Sternfeld, 2023). "
   ]
  },
  {
   "cell_type": "markdown",
   "metadata": {},
   "source": [
    "La généralisation de l’utilisation des outils de l’IAg par les élèves et étudiants dans le cadre de leurs parcours de formation introduit cette tension également dans le champ des forma-tions à l’enseignement. Ces enjeux invitent les intervenants dans les formations acadé-miques à se questionner sur comment favoriser le développement d’une posture critique de leurs étudiants (Clavert & Muller, 2024) et, dans notre cas, des futurs enseignants à l’égard de l’IAg."
   ]
  },
  {
   "cell_type": "markdown",
   "metadata": {},
   "source": [
    "Dans ce contexte, l’histoire de l’éducation, en tant que discipline critique et réflexive, appa-raît comme un levier pour comprendre, contextualiser et interroger l’utilisation de l’IAg dans l’espace scolaire et universitaire. Inscrite dans une tradition à la fois sociohistorique, péda-gogique et praxéologique (Wagnon, 2018), l’histoire de l’éducation permet de faire émerger une culture professionnelle critique, propice à l’analyse des continuités, des ruptures et des effets de sédimentation dans les pratiques d’enseignement (Ronveaux & Schneuwly, 2018). Ainsi, elle permet d’historiciser la réflexion pédagogique (Novoa, 1997). L’histoire de l’éducation constitue ainsi un outil privilégié pour aider les futurs enseignants à développer une posture éthique, réflexive et contextualisée (Bandini, 2019)."
   ]
  },
  {
   "cell_type": "markdown",
   "metadata": {},
   "source": [
    "Face à cette situation, nous envisageons de concevoir et tester un dispositif de formation qui articule la démarche historienne (analyse des sources, contextualisation, lecture critique et interprétation) et l’usage des IAg. Cette démarche doit permettre de favoriser un doute constructif (Petit, 2022). Elle permettra d’interroger les reconstructions du passé proposées par l’IAg, ainsi que leurs processus de production, et les biais qu’il induit (Meadows & Stern-feld, 2023)."
   ]
  },
  {
   "cell_type": "markdown",
   "metadata": {},
   "source": [
    "Dans cet article, nous ..."
   ]
  },
  {
   "cell_type": "markdown",
   "metadata": {},
   "source": [
    "## Problématique\n"
   ]
  },
  {
   "cell_type": "markdown",
   "metadata": {},
   "source": [
    "Notre démarche de recherche s’appuie sur les tensions entre le fonctionnement des mo-dèles d’IAg et les principes de la critique historique. Les modèles d’IAg produisent des textes en s’appuyant sur des bases documentaires massives. Cependant, ils opèrent sans explicitation claire de leurs sources, sans contextualisation, et selon une logique probabiliste qui ne répond pas à des impératifs de vérité. Leur fonctionnement consiste donc en des estimations basées sur des données reconfigurées et ainsi « brouillées » (Sternfeld, 2023 ; Petit, 2022 ; Kansteiner, 2022). "
   ]
  },
  {
   "cell_type": "markdown",
   "metadata": {},
   "source": [
    "Dans le champ de l’histoire, cette dynamique entre en tension directe avec les principes de la critique historique : récolte et évaluation des sources, mise en réseau des documents, con-textualisation des énoncés, repérage des biais. L’IAg génère des récits du passé sans histo-riographie, sans cadre critique, sans mise en débat – autant d’éléments qui constituent pré-cisément l’épistémologie de l’histoire (Prost, 2010)."
   ]
  },
  {
   "cell_type": "markdown",
   "metadata": {},
   "source": [
    "Plusieurs chercheurs ont souligné l’importance de ne pas aborder l’IAg comme une rupture radicale, mais de l’inscrire dans une généalogie longue d’innovations techniques dans le champ éducatif (Petit, 2022). Dans cette perspective, l’histoire de l’éducation peut jouer un double rôle : d’une part, elle éclaire les dynamiques historiques de production et de circula-tion des savoirs pédagogiques ; d’autre part, elle contribue à l’élaboration d’une posture cri-tique de l’IAg et ses usages dans le cadre de la formation. L’histoire des technologies éduca-tives (Petit, 2022) est donc potentiellement un objet de formation pertinent pour dénaturali-ser la prétendue irruption de l’IAg dans les pratiques enseignantes et interroger une posture éthique, réflexive et contextualisée."
   ]
  },
  {
   "cell_type": "markdown",
   "metadata": {},
   "source": [
    "Résumer et articuler la nature du geste historique « source-lecture-écriture » (Clavert & Mul-ler, 2024), « analyse des sources, contextualisation, lecture critique et interprétation » (Petit, 2022) et récolte et évaluation des sources, mise en réseau des documents, contextualisation des énoncés, repérage des biais (Prost, 2010). Cela revient à apprendre que la vérité résulte d’une construction de relations et ne se réduit pas à une proposition (Munn et al., 2023), qu’elle articule des rétentions tertiaires, secondaires et primaires qu’il est possible d’interroger (Rouvroy et Stiegler, 2015) et que le recours aux IAg interroge l’objet de la vérité (Rovira Martorell, Gálvez et Tirado, 2025), voire la notion même de la vérité en distinguant une approche cohérentiste de la vérité (propre aux LLM) et une approche qui articule cohéren-tisme et correspondantisme (propre aux humains) (Compagno, 2025)."
   ]
  },
  {
   "cell_type": "markdown",
   "metadata": {},
   "source": [
    "Nous faisons donc l’hypothèses que l’enseignement de l’histoire de l’éducation est le lieu pour interroger l’utilisation des IAg en regard de leur fonctionnement, le savoir en construction dans un processus de formation et des pratiques d’enseignement. Dit autrement, nous pen-sons que la réflexion sur les « gestes de l’historien » joue un rôle clé en histoire, mais qu’elle permet aussi d’interroger l’usage des IAg et l’agir professionnel. Compléter ?"
   ]
  },
  {
   "cell_type": "markdown",
   "metadata": {},
   "source": [
    "## Cadre théorique"
   ]
  },
  {
   "cell_type": "markdown",
   "metadata": {},
   "source": [
    "Pour concevoir le dispositif de formation et analyser les pratiques induites par celui-ci, nous nous référons à la philosophie de la technique (Alombert, 2025 ; Stiegler et Collectif Interna-tion, 2020) et à la démarche historique (...). Plus particulièrement, nous nous focalisons sur la possibilité de problématiser en formation la relation entre le fonctionnement des IAg et la démarche historique pour interroger comment se construit la vérité – ou plus modestement la référence – en ce qui concerne les gestes éducatifs."
   ]
  },
  {
   "cell_type": "markdown",
   "metadata": {},
   "source": [
    "Nous essayons donc de favoriser chez les étudiants et les futurs enseignants une posture qui leur permettent de ne pas déléguer leur pensée aux IAg (Perrin et al, 2025). La technique est constitutive et constituante de l’humain. La technique est un Pharmakon (Alombert, 2025) : elle ni bonne ni mauvaise en soi. L’enjeu est alors de penser avec les IAg, de constituer ces dernières comme des aides et non des prothèses (Perrin et al, 2025)."
   ]
  },
  {
   "cell_type": "markdown",
   "metadata": {},
   "source": [
    "L’enjeu consiste donc à apprendre à identifier et à interroger les catégories induites par l’usage des IAg (Perrin et Piot, 2024) et par conséquent les catégories de pensée, dans la dé-marche historique, les pratiques de formation et l’agir professionnel. De cette manière, les étudiants seront amenés à développer une posture critique portant non seulement sur l’usage des IAg, mais aussi sur l’évidence de leurs gestes professionnels (+ réf) en regard de la sédimentation dans les pratiques d’enseignement (Ronveaux & Schneuwly, 2018). "
   ]
  },
  {
   "cell_type": "markdown",
   "metadata": {},
   "source": [
    "Cependant, une telle démarche constitue un paradoxe, car il faudrait que les étudiants, alors qu’ils ne sont pas encore experts, puissent interroger la qualité des textes générés par des IA (Perrin et al, 2025). C’est pourquoi le rôle du collectif est essentiel pour interroger les catégo-ries induites par la technique en menant des controverses, c’est-à-dire une formulation de la pensée tenue par des contraintes argumentatives (Alombert, 2024), soit à minima comment fonctionne la technique et quels sont les gestes requis en termes de démarche historique, pédagogique et professionnelle. Les étudiants interrogeront donc comment leurs gestes et pratiques professionnels peuvent être recontextualisés à l’aide d’une démarche historique mise en regard du fonctionnement des IAg lorsqu’elles s’appuient sur un modèle RAG (retrie-val augmented generation) et des outils tels que NotebookLM pour prendre en compte des sources historiques spécifiques."
   ]
  },
  {
   "cell_type": "markdown",
   "metadata": {},
   "source": [
    "## Méthode"
   ]
  },
  {
   "cell_type": "markdown",
   "metadata": {},
   "source": [
    "### Une démarche de conception"
   ]
  },
  {
   "cell_type": "markdown",
   "metadata": {},
   "source": [
    "Nous mettons en oeuvre cette démarche de formation dans le cadre d’une démarche de De-sign Based Research (Barab & Squire, 2004). Cette méthode nous permet d’expliciter et mettre à l’épreuve nos hypothèses de conception, ainsi que de concevoir et améliorer notre dispositif de formation dans une démarche itérative (Perrin et al., 2025). Dans le cadre de cette démarche, nous rédigeons donc des hypothèses de conception qui orientent la concep-tion de notre dispositif de formation. La mise en œuvre de tout ou partie de ce dispositif nous permet alors de tester et de réviser nos hypothèses de conception, ou notre manière de les opérationnaliser au niveau du dispositif de formation."
   ]
  },
  {
   "cell_type": "markdown",
   "metadata": {},
   "source": [
    "Pour opérationnaliser notre démarche, nous construisons nos hypothèses de conception en nous référant à Knibbe (2016). Ce dernier propose en effet d’articuler trois parties : a) la com-préhension ou la description du phénomène que nous devons prendre en compte, à savoir l’activité (potentiellement) instrumentée des étudiants, b) les caractéristiques des disposi-tifs sur lesquelles nous pouvons intervenir pour orienter l’activité instrumentée des étudiants et c) l’effet attendu sur l’activité instrumentée des étudiants. Nous formulons donc nos hypo-thèses de la manière suivante : a) étant donné le phénomène, b) en agissant sur telles carac-téristiques, c) nous espérons obtenir tel effet."
   ]
  },
  {
   "cell_type": "markdown",
   "metadata": {},
   "source": [
    "### Des hypothèses de conception"
   ]
  },
  {
   "cell_type": "markdown",
   "metadata": {},
   "source": [
    "Dans le cadre de recherche orientée par la conception, nous testons les hypothèses sui-vantes : "
   ]
  },
  {
   "cell_type": "markdown",
   "metadata": {},
   "source": [
    "Hypothèse 1 : a) Étant donné le paradoxe pour les étudiants de devoir interroger la pertinence des textes générés tout en n’étant pas expert du domaine et étant donné qu’un démarche comparative permettant d’interroger des similitudes et différences est une manière de faire face à ce paradoxe, b) le dispositif de formation vise la comparaison entre le résultat obtenu à l’aide de l’IA, la démarche historique et le fonctionnement des IA c) de manière à favorise le développement d’une pensée critique qui consiste à repérer des résultats différents et à faire des hypothèses sur l’origine de ces différences."
   ]
  },
  {
   "cell_type": "markdown",
   "metadata": {},
   "source": [
    "Hypothèse 2 : a) Étant donné que l’histoire de l’éducation permet de faire émerger une culture professionnelle critique, propice à l’analyse des continuités, des ruptures et des effets de sédimentation dans les pratiques d’enseignement , b) si les étudiant·e·s élaborent des bio-graphies de Roorda avec des IAg, puis confrontent ces textes avec des travaux scientifiques et la démarche historienne (sous la guidance d’un spécialiste et par le biais d’interactions col-lectives), c) alors ils développeront la capacité à questionner et nuancer la validité des re-constructions historiques générés par les IAg, ce qui devrait les amener à reconnaître les li-mites de l’usage des IAg pour des reconstructions historiques (mais pas seulement) et à adopter une posture plus critique et réflexive vis-à-vis de ces outils. "
   ]
  },
  {
   "cell_type": "markdown",
   "metadata": {},
   "source": [
    "Hypothèse 3 : a) Étant donné que la controverse (c’est-à-dire la formulation de la pensée te-nue par des contraintes argumentatives) favorise la capacité à interroger les catégories in-duites par la technique (que ce soit celle des IAg ou celle qui formalise l’agir professionnel), b) les controverses portant sur la nature des textes générés par les AIg, mis en regard du con-texte et en articulant le fonctionnement des IAg aux gestes historiques, pédagogiques et pro-fessionnels, c) favorise une pensée critique qui interroge ce qui permet de juger de la validité des préconisations sur les gestes professionnels issus dans les textes générés, dans les doxas et dans les textes prescriptifs."
   ]
  },
  {
   "cell_type": "markdown",
   "metadata": {},
   "source": [
    "Hypothèse 4 : a) Étant donné que la différence entre une approche cohérentiste de la vérité (propre aux LLM) et une approche de la vérité qui articule cohérentisme et correspondan-tisme (propre aux humains) est importante à comprendre, que la vérité des LLM n’est pas explicable et que la vérité des humains dépend toujours du sujet percevant, que la vérité est donc une construction sociale stabilisée temporairement qu’il est important de comprendre pour l’accepter, b) la confrontation portant sur « l’interprétation » d’une « source » générée par une IAG par un collectif adoptant une démarche historique et s’interrogeant sur la déontologie professionnelle, c) favorise une pensée critique qui accepte d’interroger un produit (texte gé-néré ou acte éducatif) en regard des régimes de vérité pertinents."
   ]
  },
  {
   "cell_type": "markdown",
   "metadata": {},
   "source": [
    "De manière transversale à ces hypothèses, plusieurs résultats sont attendus. Après la sé-quence d’enseignement, les étudiant·e·s seront capables d’identifier les limites, erreurs ou simplifications présentes dans les textes générés par les IAg ; les étudiant·e·s mobiliseront des sources scientifiques et des éléments de méthode historienne pour appuyer leurs cri-tiques (comparaison et analyse de sources primaires, contextualisation de ces sources à l’aide de la littérature secondaire existante sur le sujet). A plus long terme les résultats sui-vantes pourraient également être attendus  : les étudiant·e·s développeront une posture cri-tique et réflexive plus large vis-à-vis des productions issues de l’IAg, ce qui leur permettra également de questionner les concepts de vérité et d’interprétation (en le mettant en pers-pective avec le concept de probabilité) ; les étudiant·e·s reconnaîtront les spécificités et la valeur de la démarche historienne par rapport aux reconstructions automatiques ; les étu-diant·e·s changeront leurs habitudes concernant l’usage de l’IAg."
   ]
  },
  {
   "cell_type": "markdown",
   "metadata": {},
   "source": [
    "### Un dispositif de formation"
   ]
  },
  {
   "cell_type": "markdown",
   "metadata": {},
   "source": [
    "Cette recherche orientée consiste à concevoir, mettre en œuvre et interroger une séquence qui s’intègre dans le cadre d’un séminaire d’approfondissement proposée en formation ini-tiale (Bachelor primaire) destinée aux futur·e·s enseignant·e·s de l’école primaire vaudoise. Ce séminaire d’approfondissement vise à porter un regard critique et approfondi sur les péda-gogies actives, leur histoire et leur déploiement dans les classes aujourd’hui. "
   ]
  },
  {
   "cell_type": "markdown",
   "metadata": {},
   "source": [
    "S’intéresser à ces pédagogies aujourd’hui se justifie par leur rôle dans la construction d’environnements scolaires inclusifs et favorables aux apprentissages, ainsi que par leur in-fluence persistante (processus de sédimentation des pratiques) sur les pratiques ensei-gnantes contemporaines (Grootaers, et Tilman, 2022 ; Vellas, 2023 ; Wagnon, 2019, 2021). Ce séminaire poursuit plusieurs objectifs, à savoir : approfondir la connaissance des dispositifs de pédagogie active et leurs origines en adoptant une démarche historique ; découvrir et ma-nipuler du matériel pédagogique ancien et actuel ; concevoir un projet incluant une modalité de pédagogie active ; se projeter dans sa future classe en envisageant une séquence d’enseignement comprenant de la pédagogie active. "
   ]
  },
  {
   "cell_type": "markdown",
   "metadata": {},
   "source": [
    "Ce cadre d’enseignement nous est apparu comme un terrain particulièrement pertinent pour introduire une réflexion sur les usages IAg en formation, et plus spécifiquement sur les rela-tions entre histoire et IAg. Le séminaire offre en effet un espace propice pour interroger, dans une démarche collective et participative d’analyse des pratiques, la manière dont ces outils redéfinissent le rapport au savoir et posent la question du concept de vérité face aux textes qu’ils produisent."
   ]
  },
  {
   "cell_type": "markdown",
   "metadata": {},
   "source": [
    "### Participants"
   ]
  },
  {
   "cell_type": "markdown",
   "metadata": {},
   "source": [
    "Cette recherche est menée lors du semestre d’automne 2025 à la Haute école pédagogique du canton de Vaud (Suisse). Elle est portée par une équipe interdisciplinaire active dans les domaines de l’histoire de l’éducation, de l’ingénierie pédagogique ainsi que des sciences de la technologie."
   ]
  },
  {
   "cell_type": "markdown",
   "metadata": {},
   "source": [
    "Le public de cette recherche est constitué d’un groupe d’environ dix étudiant·e·s, engagé·e·s dans ce séminaire de formation. + éléments en lien avec leur profil à préciser une fois toutes les données récoltés (à l’aide d’un formulaire)."
   ]
  },
  {
   "cell_type": "markdown",
   "metadata": {},
   "source": [
    "Séquence d’enseignement 03.10.2025:"
   ]
  },
  {
   "attachments": {},
   "cell_type": "markdown",
   "metadata": {},
   "source": [
    "| Activités | Objectifs | Démarche | Commentaires |\n",
    "|------------|------------|-----------|---------------|\n",
    "| 1 | Rédaction d’une biographie de Roorda avec l’IAg. | Élaboration d’une biographie à l’aide de l’IA | Collecte des productions pour les analyser |\n",
    "| 2 | Discussion collective guidée par un historien spécialiste.<br><br>Comparaison en collectif des biographies scientifiques générées par l’IAg et celle reconstruite avec la méthode historienne | Mobilisation de sources<br><br>Argumentation étayée<br><br>Interaction sociale et co-construction<br><br>Analyse comparative<br><br>Questionnement critique<br><br>Détection d’erreurs/inexactitudes |  |\n",
    "| 3 | Approfondissement de la pensée pédagogique de Roorda par la lecture et l’analyse de textes de Roorda | Mobilisation de sources<br><br>Argumentation étayée<br><br>Interaction sociale et co-construction<br><br>Analyse comparative<br><br>Questionnement critique |  |\n",
    "| 4 | Objectivation sur les usages des IAg | Réflexivité<br><br>Transfert des apprentissages<br><br>Prise de recul critique |  |\n"
   ]
  },
  {
   "cell_type": "markdown",
   "metadata": {},
   "source": [
    "Séquence d'enseignement du 10.10.2025:"
   ]
  },
  {
   "cell_type": "markdown",
   "metadata": {},
   "source": [
    "| Activités | Objectifs | Démarche | Commentaires |\n",
    "|------------|------------|-----------|---------------|\n",
    "| 1 | Comprendre les principes d’un dispositif pédagogique issu des pédagogies actives | Élaboration d’une fiche passeport à l’aide de l’IA et de la littérature secondaire | Collecte des productions pour les analyser |\n",
    "| 2 | Discussion collective guidée par la formatrice | Mobilisation de sources<br><br>Argumentation étayée<br><br>Interaction sociale et co-construction<br><br>Analyse comparative<br><br>Questionnement critique<br><br>Détection d’erreurs/inexactitudes |  |\n",
    "| 3 | Objectivation sur les usages des IAg | Réflexivité<br><br>Transfert des apprentissages<br><br>Prise de recul critique |  |\n"
   ]
  },
  {
   "cell_type": "markdown",
   "metadata": {},
   "source": [
    "### Questionnaire"
   ]
  },
  {
   "cell_type": "markdown",
   "metadata": {},
   "source": [
    "Ce questionnaire s’inscrit dans le cadre d’une recherche-action portant sur l’intégration des intelligences artificielles génératives (IAg) dans une démarche historienne de formation à la pensée critique. L’objectif est de mieux comprendre comment les deux séquences de formation vécues ont pu influencer votre rapport aux IAg — vos usages, vos représentations, et votre capacité à exercer un doute constructif face à leurs productions."
   ]
  },
  {
   "cell_type": "markdown",
   "metadata": {},
   "source": [
    "Le questionnaire est anonyme et dure environ 10 minutes.\n",
    "Nous vous remercions pour votre participation précieuse !\n"
   ]
  },
  {
   "cell_type": "markdown",
   "metadata": {},
   "source": [
    "#### **PARTIE I – Informations générales**\n",
    "*(Objectif : récolter des informations générales)*\n",
    "\n",
    "1. **Âge :**\n",
    "\n",
    "2. **Genre :**\n",
    "   - [ ] Femme  \n",
    "   - [ ] Homme  \n",
    "   - [ ] Autre / Préfère ne pas préciser  \n",
    "\n",
    "3. **Dans quel(s) contexte(s) utilisez-vous les IAg ?**  \n",
    "*(plusieurs réponses possibles)*  \n",
    "   - [ ] Pour mes études (rédiger, reformuler, résumer, préparer un travail, etc.)  \n",
    "   - [ ] Pour mon travail  \n",
    "   - [ ] Pour un usage personnel (curiosité, créativité, loisirs, etc.)  \n",
    "   - [ ] Autre : ____________________  \n",
    "\n",
    "4. **Quels outils d’IA générative utilisez-vous le plus souvent ?**  \n",
    "*(plusieurs réponses possibles)*  \n",
    "   - [ ] ChatGPT  \n",
    "   - [ ] Copilot  \n",
    "   - [ ] Gemini  \n",
    "   - [ ] Claude  \n",
    "   - [ ] Mistral  \n",
    "   - [ ] Aucun  \n",
    "   - [ ] Autre : ____________________  \n",
    "\n",
    "5. **À quelle fréquence utilisez-vous une IAg actuellement ?**  \n",
    "   - [ ] Tous les jours  \n",
    "   - [ ] Plusieurs fois par semaine  \n",
    "   - [ ] Occasionnellement  \n",
    "   - [ ] Rarement / jamais  \n",
    "\n",
    "6. **Parmi les phrases suivantes, laquelle vous correspond le mieux ?**  \n",
    "   - [ ] J’utilise les IAg comme des outils pratiques pour gagner du temps.  \n",
    "   - [ ] J’utilise les IAg pour m’aider à comprendre ou approfondir certains sujets.  \n",
    "   - [ ] Je me méfie des IAg et je préfère ne pas les utiliser sans vérification.  \n",
    "   - [ ] Je ne sais pas encore comment les utiliser de manière pertinente.  \n",
    "\n",
    "7. **Comment évalueriez-vous votre niveau général de maîtrise du numérique ?**  \n",
    "   *(1 = très faible, 5 = très élevé)*  \n",
    "\n",
    "8. **Avez-vous déjà reçu une formation sur les intelligences artificielles (IA ou IAg) ?**  \n",
    "   - [ ] Oui, de manière formelle (cours, atelier, etc.)  \n",
    "   - [ ] Oui, de manière informelle (autoformation, tutoriels, etc.)  \n",
    "   - [ ] Non  \n",
    "\n",
    "9. **Quelles étaient vos principales motivations à utiliser (ou à ne pas utiliser) les IAg avant nos discussions/séquences ?**  \n",
    "   → *Réponse libre*  \n",
    "\n",
    "---\n",
    "\n",
    "#### **PARTIE II – Représentations et posture envers les IAg**\n",
    "*(Objectif : mesurer les représentations et la posture envers les IAg)*\n",
    "\n",
    "1. **Quand vous pensez aux IAg, quels mots ou idées vous viennent spontanément à l’esprit ?**  \n",
    "   → *Réponse libre*  \n",
    "\n",
    "2. **Quelle affirmation reflète le mieux votre opinion actuelle sur les IAg ?**  \n",
    "   - [ ] Outils neutres et objectifs  \n",
    "   - [ ] Outils utiles mais nécessitant une vigilance critique  \n",
    "   - [ ] Outils potentiellement dangereux (désinformation, dépendance, etc.)  \n",
    "   - [ ] Autre : ____________________  \n",
    "\n",
    "3. **Avant nos séquences, aviez-vous conscience que les IAg produisent des reconstructions du réel influencées par leurs données d’entraînement ?**  \n",
    "   - [ ] Oui, tout à fait  \n",
    "   - [ ] Un peu  \n",
    "   - [ ] Pas vraiment  \n",
    "   - [ ] Pas du tout  \n",
    "\n",
    "4. **Quelle confiance accordiez-vous aux réponses produites par une IAg avant la formation ?**  \n",
    "   *(1 = aucune confiance, 5 = pleine confiance)*  \n",
    "\n",
    "---\n",
    "\n",
    "#### **PARTIE III – Effets perçus des séquences**\n",
    "*(Objectif : mesurer les effets perçus de nos séminaires)*\n",
    "\n",
    "1. **Les activités menées pendant nos séminaires vous ont-elles aidé·e à :**  \n",
    "*(Cochez la réponse la plus juste pour chaque proposition)*  \n",
    "\n",
    "| **Affirmation** | **Oui, tout à fait** | **Plutôt oui** | **Plutôt non** | **Pas du tout** |\n",
    "|------------------|----------------------|----------------|----------------|-----------------|\n",
    "| ...mieux comprendre comment une IAg produit ses réponses ? | [ ] | [ ] | [ ] | [ ] |\n",
    "| ...identifier les biais ou limites des productions d’IA ? | [ ] | [ ] | [ ] | [ ] |\n",
    "| ...développer une attitude de doute constructif face aux informations générées ? | [ ] | [ ] | [ ] | [ ] |\n",
    "\n",
    "2. **Parmi les activités proposées, lesquelles vous ont le plus aidé·e à adopter une posture critique ?**  \n",
    "   - [ ] Analyse de sources historiques avec l’IA  \n",
    "   - [ ] Comparaison entre textes produits par l’IA et par des humains  \n",
    "   - [ ] Discussions collectives  \n",
    "   - [ ] Autre : ____________________  \n",
    "\n",
    "3. **Qu’avez-vous découvert ou compris de nouveau sur les IAg grâce à cette démarche ?**  \n",
    "   → *Réponse libre*  \n",
    "\n",
    "4. **Après cette expérience, avez-vous le sentiment d’utiliser les IAg différemment ?**  \n",
    "   - [ ] Oui, de manière plus critique  \n",
    "   - [ ] Oui, mais sans grand changement dans mes pratiques  \n",
    "   - [ ] Non, pas vraiment  \n",
    "   - [ ] Non, je les utilise moins / plus du tout  \n",
    "\n",
    "5. **Aujourd’hui, comment qualifieriez-vous votre niveau de confiance dans les productions d’une IAg ?**  \n",
    "   *(1 = aucune confiance, 5 = pleine confiance)*  \n",
    "\n",
    "6. **Quelle place pensez-vous que les IAg devraient occuper dans le cadre des études tertiaires (HEP, Université, etc.) ?**  \n",
    "   - [ ] Outil d’aide et de réflexion  \n",
    "   - [ ] Support d’entraînement à l’esprit critique  \n",
    "   - [ ] Autre : ____________________  \n",
    "\n",
    "7. *(1 = pas du tout d’accord, 5 = tout à fait d’accord)*\n",
    "\n",
    "| **Affirmation** | **1** | **2** | **3** | **4** | **5** |\n",
    "|------------------|-------|-------|-------|-------|-------|\n",
    "| Je me pose spontanément des questions sur les sources des informations produites par une IAg. | [ ] | [ ] | [ ] | [ ] | [ ] |\n",
    "| Je compare les réponses de l’IA à d’autres sources avant de les accepter. | [ ] | [ ] | [ ] | [ ] | [ ] |\n",
    "| Je considère que les productions d’IA reflètent des choix humains et culturels. | [ ] | [ ] | [ ] | [ ] | [ ] |\n",
    "| Je me sens capable d’expliquer à d’autres pourquoi il faut interroger les réponses d’une IAg. | [ ] | [ ] | [ ] | [ ] | [ ] |\n",
    "\n"
   ]
  },
  {
   "cell_type": "markdown",
   "metadata": {},
   "source": [
    "### Opérationnalisation"
   ]
  },
  {
   "cell_type": "markdown",
   "metadata": {},
   "source": [
    "<table>\n",
    "  <tr>\n",
    "    <th>Concept</th>\n",
    "    <th>Indicateur</th>\n",
    "    <th>Outil de récolte des données</th>\n",
    "  </tr>\n",
    "  <tr>\n",
    "    <td>Pensée critique</td>\n",
    "    <td>\n",
    "      Nombre et pertinence des critiques relevées par les étudiant·e·s<br/><br/>\n",
    "      Capacité des étudiant·e·s à repérer des erreurs factuelles <br/>ou des simplifications dans le texte généré par les IAg\n",
    "    </td>\n",
    "    <td rowspan=\"2\">\n",
    "      Enregistrement audio/vidéo<br/><br/>\n",
    "      Traces écrites des étudiant·e·s<br/><br/>\n",
    "      Questionnaire post-séquence soumis aux étudiant·e·s<br/><br/>\n",
    "      Éventuellement : entretiens ?<br/><br/>\n",
    "      Éventuellement : Journal de bord des formateurs·trices impliqué·e·s dans la séquence ?\n",
    "    </td>\n",
    "  </tr>\n",
    "  <tr>\n",
    "    <td>Réflexivité</td>\n",
    "    <td>\n",
    "      Évolution du discours des étudiant·e·s par rapport aux usages<br/> des IAg avant/après l’activité<br/><br/>\n",
    "      Capacité à énoncer les limites et conditions d’usage de l’IAg<br/><br/>\n",
    "      Usage de références scientifiques<br/><br/>\n",
    "      Argumentation appuyée sur méthode historienne\n",
    "    </td>\n",
    "  </tr>\n",
    "</table>"
   ]
  },
  {
   "cell_type": "markdown",
   "metadata": {},
   "source": [
    "# Résultats"
   ]
  },
  {
   "cell_type": "markdown",
   "metadata": {},
   "source": [
    "Nous montrons ainsi comment l’histoire de l’éducation n’est pas seulement un contenu dis-ciplinaire à transmettre, mais un levier pour former des enseignants réflexifs et capables d’interroger les discours, de les situer et de construire une posture professionnelle ancrée dans l’histoire, la critique et l’éthique (Bandini, 2019)."
   ]
  },
  {
   "cell_type": "markdown",
   "metadata": {},
   "source": [
    "# Bibliographie"
   ]
  },
  {
   "cell_type": "markdown",
   "metadata": {},
   "source": [
    "- Alombert, A. (2025). Penser avec Bernard Stiegler. PUF. \n",
    "\n",
    "- Alombert, A. (2024). From Digital Automation to Noetic Proletarianization: A Stieglerian Anal-ysis of “Reticulated Artificial Intelligence”. Philosophy Today, 68(2), 497-517. https://doi.org/10.5840/philtoday202466532\n",
    "\n",
    "- Bandini, G. (2019). Manifesto della Public History of Education. Una proposta per connettere ricercar accademica, didattica e memoria sociale. In G. Bandini, S. Oliviero, Public History of Education: riflessioni, testimonianze, - \n",
    "\n",
    "- esperienze (pp. 41-53). Firenze University Press. \n",
    "\n",
    "- Barab, S., & Squire, K. (2004). Design-based research: Putting a stake in the ground. The jour-nal of the learning sciences, 13(1), 1-14. \n",
    "\n",
    "- Clavert, F., & Muller, C. (2024). L’histoire au temps des algorithmes : Une réflexion prospec-tive sur l’introduction de l’intelligence artificielle en histoire au 21e siècle. 20 & 21. Revue d’histoire, 162(2), 13–26. https://doi.org/10.-3917/vin.162.0013\n",
    "\n",
    "- Compagno, D. (2025). La notion de vérité à l’épreuve de l’intelligence artificielle. Semiotica, 2025(262), 25-49. https://doi.org/10.1515/sem-2024-0201 \n",
    "\n",
    "- Kansteiner, W. (2022). Digital Doping for Historians: Can History, Memory, and Historical Theory Be Rendered Artificially Intelligent? History and Theory, 61(4), 119–133. https://doi.org/10.1111/hith.12282\n",
    "\n",
    "- Knibbe, C. (2016). Concevoir avec des technologies émergentes pour la construction con-jointe des pratiques et des artefacts: apports d’une méthodologie participative à l’innovation technologique et pédagogique [Thèse de doctorat, CNAM  \n",
    "\n",
    "- Conservatoire national des arts et métiers]. \n",
    "\n",
    "- Meadows, R. D., & Sternfeld, J. (2023). Artificial Intelligence and the Practice of History: A Fo-rum. The American Historical Review, 128(3), 1345–1349. https://doi.org/10.1093/ahr/rhad362\n",
    "\n",
    "- Munn, L., Magee, L., & Arora, V. (2024). Truth Machines: Synthesizing Veracity in AI Language Models. AI & SOCIETY, 39(6), 2759-2773. https://doi.org/10.1007/s00146-023-01756-4. \n",
    "\n",
    "- Novoa, A. (1997). La nouvelle histoire américaine de l’éducation. Histoire de l’éducation, 73, 3-48.\n",
    "\n",
    "- Perrin, N., & Piot, D. (2024). Relational Engineering: Necessary and Sufficient Relations and the Case of Generative AI. Constructivist Foundations, 20(1), 50-52. \n",
    "\n",
    "- Perrin, N., Piot, D., Vita, L., Bationo Tillon, A., & Guibourdenche, J. (2025). Des hypothèses pour concevoir des tâches permettant aux étudiants d’évaluer la pertinence des textes géné-rés par les IA. RITPU - Revue internationale des \n",
    "\n",
    "- technologies en pédagogie universitaire, 22(1). \n",
    "\n",
    "- Petit, L. (2022). La rencontre de l’Intelligence artificielle (IA) et de l’esprit critique (EC): nou-veaux enjeux? nouvelle formation?. Communication, technologies et développement, (12).\n",
    "\n",
    "- Prost, A. (2010). Douze leçons sur l’histoire. Points.\n",
    "\n",
    "- Ronveaux, C. & Schneuwly, B. (2018) (éds). Lire des textes réputés littéraires : disciplination et sédimentation. Enquête au fil des degrés scolaires en Suisse romande. Peter Lang.\n",
    "\n",
    "- Rouvroy, A., & Stiegler, B. (2015). Le régime de vérité numérique. De la gouvernementalité algorithmique à un nouvel État de droit. Socio. La nouvelle revue des sciences sociales(4), 113-140. \n",
    "\n",
    "- Rovira Martorell, J., Gálvez, A., & Tirado, F. (2025). Artificial intelligence and the production of judicial truth. Theory, Culture & Society, 42(1), 3-18. https://doi.org/10.1177/02632764241268174 \n",
    "\n",
    "- Sternfeld, J. (2023). AI-as-Historian. The American Historical Review, 128(3), 1372–1377.\n",
    "\n",
    "- Stiegler, B., & Collectif Internation. (2020). Bifurquer : L'absolue nécessité. Les liens qui libè-rent. \n",
    "\n",
    "- Wagnon, S. (2018). L’histoire de l’éducation au sein des sciences de l’éducation : un champ de recherche passerelle? Education et socialisation, 50, 1-10.\n"
   ]
  },
  {
   "cell_type": "markdown",
   "metadata": {},
   "source": []
  }
 ],
 "metadata": {
  "celltoolbar": "Tags",
  "citation-manager": {
   "items": {}
  },
  "kernelspec": {
   "display_name": "Python 3 (ipykernel)",
   "language": "python",
   "name": "python3"
  },
  "language_info": {
   "codemirror_mode": {
    "name": "ipython",
    "version": 3
   },
   "file_extension": ".py",
   "mimetype": "text/x-python",
   "name": "python",
   "nbconvert_exporter": "python",
   "pygments_lexer": "ipython3",
   "version": "3.11.9"
  },
  "toc": {
   "base_numbering": 1,
   "nav_menu": {},
   "number_sections": true,
   "sideBar": true,
   "skip_h1_title": false,
   "title_cell": "Table of Contents",
   "title_sidebar": "Contents",
   "toc_cell": false,
   "toc_position": {},
   "toc_section_display": true,
   "toc_window_display": false
  }
 },
 "nbformat": 4,
 "nbformat_minor": 4
}
